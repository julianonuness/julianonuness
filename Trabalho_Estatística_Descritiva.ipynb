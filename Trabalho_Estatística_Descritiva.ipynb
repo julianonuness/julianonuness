{
  "nbformat": 4,
  "nbformat_minor": 0,
  "metadata": {
    "colab": {
      "name": "Trabalho - Estatística Descritiva.ipynb",
      "provenance": [],
      "collapsed_sections": [],
      "authorship_tag": "ABX9TyMELwzsR0/zSw4GcODLg1yg",
      "include_colab_link": true
    },
    "kernelspec": {
      "name": "python3",
      "display_name": "Python 3"
    },
    "language_info": {
      "name": "python"
    }
  },
  "cells": [
    {
      "cell_type": "markdown",
      "metadata": {
        "id": "view-in-github",
        "colab_type": "text"
      },
      "source": [
        "<a href=\"https://colab.research.google.com/github/julianonuness/julianonuness/blob/main/Trabalho_Estat%C3%ADstica_Descritiva.ipynb\" target=\"_parent\"><img src=\"https://colab.research.google.com/assets/colab-badge.svg\" alt=\"Open In Colab\"/></a>"
      ]
    },
    {
      "cell_type": "markdown",
      "metadata": {
        "id": "FlGXk4qztTUw"
      },
      "source": [
        "#**Especialização em Ciência de Dados aplicada a Políticas Públicas.**#\n",
        "\n",
        "Disciplina: **Estatística Descritiva**\n",
        "\n",
        "Professor: **Eduardo Monteiro de Castro Gomes**\n",
        "\n",
        "Aluno: **Juliano Nunes Dal Bo**"
      ]
    },
    {
      "cell_type": "code",
      "metadata": {
        "id": "9rFVFogodKK0"
      },
      "source": [
        "import pandas as pd\n",
        "import numpy as np\n",
        "import matplotlib.pyplot as plt\n",
        "import seaborn as sns"
      ],
      "execution_count": null,
      "outputs": []
    },
    {
      "cell_type": "markdown",
      "metadata": {
        "id": "l2d5HJX6t1Oc"
      },
      "source": [
        "##**Temática**##"
      ]
    },
    {
      "cell_type": "markdown",
      "metadata": {
        "id": "21r6nQJTY04z"
      },
      "source": [
        "O trabalho adotará como temática a avaliação dos recursos repassados aos estados, Distrito \n",
        "Federal e municípios para financiamento das ações e procedimentos ambulatoriais \n",
        "e hospitalares. No âmbito do Sistema Único de Saúde (SUS) esses recursos são \n",
        "denomidados como Limite Financeiro da Média e Alta Complexidade ou Teto MAC.\n",
        "\n",
        "A Média e Alta Complexidade (MAC) engloba procedimentos que demandam a atuação de profissionais especializados e a utilização de recursos tecnológicos de alto custo, o que acarreta a necessidade de execução de boa parte dos recursos disponibilizados para a área de saúde. \n",
        "\n",
        "Dessa forma, a presente análise descritiva buscará abordar os valores despendidos aos entes federativos, per capita, considerando os recursos MAC para enfrentamento da emergência de saúde pública decorrente do coronavírus; os recursos do Teto MAC; e os valores de produção ambulatorial e hospitalar referentes aos serviços executados pelo entes federativos no âmbito do SUS."
      ]
    },
    {
      "cell_type": "markdown",
      "metadata": {
        "id": "vD_rV4n7wnMO"
      },
      "source": [
        "##**1) A análise utilizará os seguintes conjuntos de dados:**##\n",
        "\n"
      ]
    },
    {
      "cell_type": "markdown",
      "metadata": {
        "id": "FjilpbVXe3ua"
      },
      "source": [
        "###**1.1) População dos estados.**###\n",
        "\n",
        "- Variáveis qualitativas\n",
        "\n",
        "  - Nominais: COD_UF, NOME_ESTADO, UF\n",
        "\n",
        "- Variáveis quantitativas\n",
        "\n",
        "  - Discreta: POP_ESTADO   \n"
      ]
    },
    {
      "cell_type": "code",
      "metadata": {
        "id": "X5rG8qr4v4o5",
        "colab": {
          "base_uri": "https://localhost:8080/",
          "height": 205
        },
        "outputId": "812134ff-3953-4deb-f4ca-ded310e32182"
      },
      "source": [
        "uf = pd.read_csv('https://raw.githubusercontent.com/julianonuness/julianonuness/main/ESTADO.csv', sep=',', na_values='-', dtype={'COD_UF': 'str'})\n",
        "uf.head()"
      ],
      "execution_count": null,
      "outputs": [
        {
          "output_type": "execute_result",
          "data": {
            "text/html": [
              "<div>\n",
              "<style scoped>\n",
              "    .dataframe tbody tr th:only-of-type {\n",
              "        vertical-align: middle;\n",
              "    }\n",
              "\n",
              "    .dataframe tbody tr th {\n",
              "        vertical-align: top;\n",
              "    }\n",
              "\n",
              "    .dataframe thead th {\n",
              "        text-align: right;\n",
              "    }\n",
              "</style>\n",
              "<table border=\"1\" class=\"dataframe\">\n",
              "  <thead>\n",
              "    <tr style=\"text-align: right;\">\n",
              "      <th></th>\n",
              "      <th>COD_UF</th>\n",
              "      <th>NOME_ESTADO</th>\n",
              "      <th>UF</th>\n",
              "      <th>POP_ESTADO</th>\n",
              "    </tr>\n",
              "  </thead>\n",
              "  <tbody>\n",
              "    <tr>\n",
              "      <th>0</th>\n",
              "      <td>11</td>\n",
              "      <td>Rondônia</td>\n",
              "      <td>RO</td>\n",
              "      <td>1796460</td>\n",
              "    </tr>\n",
              "    <tr>\n",
              "      <th>1</th>\n",
              "      <td>12</td>\n",
              "      <td>Acre</td>\n",
              "      <td>AC</td>\n",
              "      <td>894470</td>\n",
              "    </tr>\n",
              "    <tr>\n",
              "      <th>2</th>\n",
              "      <td>13</td>\n",
              "      <td>Amazonas</td>\n",
              "      <td>AM</td>\n",
              "      <td>4207714</td>\n",
              "    </tr>\n",
              "    <tr>\n",
              "      <th>3</th>\n",
              "      <td>14</td>\n",
              "      <td>Roraima</td>\n",
              "      <td>RR</td>\n",
              "      <td>631181</td>\n",
              "    </tr>\n",
              "    <tr>\n",
              "      <th>4</th>\n",
              "      <td>15</td>\n",
              "      <td>Pará</td>\n",
              "      <td>PA</td>\n",
              "      <td>8690745</td>\n",
              "    </tr>\n",
              "  </tbody>\n",
              "</table>\n",
              "</div>"
            ],
            "text/plain": [
              "  COD_UF NOME_ESTADO  UF  POP_ESTADO\n",
              "0     11    Rondônia  RO     1796460\n",
              "1     12        Acre  AC      894470\n",
              "2     13    Amazonas  AM     4207714\n",
              "3     14     Roraima  RR      631181\n",
              "4     15        Pará  PA     8690745"
            ]
          },
          "metadata": {},
          "execution_count": 35
        }
      ]
    },
    {
      "cell_type": "markdown",
      "metadata": {
        "id": "mL91AMgugHY_"
      },
      "source": [
        "### **1.2) Dados referentes aos recursos MAC repassados aos entes federativos em 2020, exclusivamente para enfrentamento da COVID-19.** ###\n",
        "\n",
        "\n",
        "- Variáveis qualitativas\n",
        "\n",
        "  - Nominais: Número_da_Publicação, Assunto, Região, Estado\n",
        "\n",
        "- Variáveis quantitativas\n",
        "\n",
        "  - Contínuas: Total"
      ]
    },
    {
      "cell_type": "code",
      "metadata": {
        "id": "MBFHPyRihAll",
        "colab": {
          "base_uri": "https://localhost:8080/",
          "height": 205
        },
        "outputId": "d5fe665e-22a7-4c5c-b7eb-c3c1a58d3aca"
      },
      "source": [
        "mac_covid = pd.read_csv('https://raw.githubusercontent.com/julianonuness/julianonuness/main/Recursos%20MAC%20Covid%202020.csv', sep=',', decimal='.')\n",
        "mac_covid.head()"
      ],
      "execution_count": null,
      "outputs": [
        {
          "output_type": "execute_result",
          "data": {
            "text/html": [
              "<div>\n",
              "<style scoped>\n",
              "    .dataframe tbody tr th:only-of-type {\n",
              "        vertical-align: middle;\n",
              "    }\n",
              "\n",
              "    .dataframe tbody tr th {\n",
              "        vertical-align: top;\n",
              "    }\n",
              "\n",
              "    .dataframe thead th {\n",
              "        text-align: right;\n",
              "    }\n",
              "</style>\n",
              "<table border=\"1\" class=\"dataframe\">\n",
              "  <thead>\n",
              "    <tr style=\"text-align: right;\">\n",
              "      <th></th>\n",
              "      <th>Número_da_Publicação</th>\n",
              "      <th>Assunto</th>\n",
              "      <th>Região</th>\n",
              "      <th>Estado</th>\n",
              "      <th>Total</th>\n",
              "    </tr>\n",
              "  </thead>\n",
              "  <tbody>\n",
              "    <tr>\n",
              "      <th>0</th>\n",
              "      <td>GM 03896/2020</td>\n",
              "      <td>PANDEMIA</td>\n",
              "      <td>NORTE</td>\n",
              "      <td>AC</td>\n",
              "      <td>13296294.00</td>\n",
              "    </tr>\n",
              "    <tr>\n",
              "      <th>1</th>\n",
              "      <td>GM 03896/2020</td>\n",
              "      <td>PANDEMIA</td>\n",
              "      <td>NORTE</td>\n",
              "      <td>AM</td>\n",
              "      <td>25490722.40</td>\n",
              "    </tr>\n",
              "    <tr>\n",
              "      <th>2</th>\n",
              "      <td>GM 03896/2020</td>\n",
              "      <td>PANDEMIA</td>\n",
              "      <td>NORTE</td>\n",
              "      <td>AP</td>\n",
              "      <td>13685332.23</td>\n",
              "    </tr>\n",
              "    <tr>\n",
              "      <th>3</th>\n",
              "      <td>GM 03896/2020</td>\n",
              "      <td>PANDEMIA</td>\n",
              "      <td>NORTE</td>\n",
              "      <td>PA</td>\n",
              "      <td>43874385.12</td>\n",
              "    </tr>\n",
              "    <tr>\n",
              "      <th>4</th>\n",
              "      <td>GM 03896/2020</td>\n",
              "      <td>PANDEMIA</td>\n",
              "      <td>NORTE</td>\n",
              "      <td>RO</td>\n",
              "      <td>17744382.76</td>\n",
              "    </tr>\n",
              "  </tbody>\n",
              "</table>\n",
              "</div>"
            ],
            "text/plain": [
              "  Número_da_Publicação   Assunto Região Estado        Total\n",
              "0        GM 03896/2020  PANDEMIA  NORTE     AC  13296294.00\n",
              "1        GM 03896/2020  PANDEMIA  NORTE     AM  25490722.40\n",
              "2        GM 03896/2020  PANDEMIA  NORTE     AP  13685332.23\n",
              "3        GM 03896/2020  PANDEMIA  NORTE     PA  43874385.12\n",
              "4        GM 03896/2020  PANDEMIA  NORTE     RO  17744382.76"
            ]
          },
          "metadata": {},
          "execution_count": 36
        }
      ]
    },
    {
      "cell_type": "markdown",
      "metadata": {
        "id": "2WH1pX9xyZIY"
      },
      "source": [
        "**1.2.1) O tratamento de dados envolveu:**"
      ]
    },
    {
      "cell_type": "markdown",
      "metadata": {
        "id": "zJRM-98RiZpx"
      },
      "source": [
        "a) Alteração da coluna \"Número_da_Publicação\" e dos seus valores para contemplar apenas o ano da publicação da portaria, que se refere ao ano de disponibilização dos recursos."
      ]
    },
    {
      "cell_type": "code",
      "metadata": {
        "id": "S07svqmW3ECN",
        "colab": {
          "base_uri": "https://localhost:8080/",
          "height": 205
        },
        "outputId": "b7da108f-7d9c-4060-8285-57758ba1d9c3"
      },
      "source": [
        "mac_covid.rename(columns = {'Número_da_Publicação': 'Ano'}, inplace = True)\n",
        "mac_covid['Ano'] = mac_covid['Ano'].apply(lambda x: x.split('/')[-1])\n",
        "mac_covid[mac_covid['Ano'] == '2020']\n",
        "mac_covid.head()"
      ],
      "execution_count": null,
      "outputs": [
        {
          "output_type": "execute_result",
          "data": {
            "text/html": [
              "<div>\n",
              "<style scoped>\n",
              "    .dataframe tbody tr th:only-of-type {\n",
              "        vertical-align: middle;\n",
              "    }\n",
              "\n",
              "    .dataframe tbody tr th {\n",
              "        vertical-align: top;\n",
              "    }\n",
              "\n",
              "    .dataframe thead th {\n",
              "        text-align: right;\n",
              "    }\n",
              "</style>\n",
              "<table border=\"1\" class=\"dataframe\">\n",
              "  <thead>\n",
              "    <tr style=\"text-align: right;\">\n",
              "      <th></th>\n",
              "      <th>Ano</th>\n",
              "      <th>Assunto</th>\n",
              "      <th>Região</th>\n",
              "      <th>Estado</th>\n",
              "      <th>Total</th>\n",
              "    </tr>\n",
              "  </thead>\n",
              "  <tbody>\n",
              "    <tr>\n",
              "      <th>0</th>\n",
              "      <td>2020</td>\n",
              "      <td>PANDEMIA</td>\n",
              "      <td>NORTE</td>\n",
              "      <td>AC</td>\n",
              "      <td>13296294.00</td>\n",
              "    </tr>\n",
              "    <tr>\n",
              "      <th>1</th>\n",
              "      <td>2020</td>\n",
              "      <td>PANDEMIA</td>\n",
              "      <td>NORTE</td>\n",
              "      <td>AM</td>\n",
              "      <td>25490722.40</td>\n",
              "    </tr>\n",
              "    <tr>\n",
              "      <th>2</th>\n",
              "      <td>2020</td>\n",
              "      <td>PANDEMIA</td>\n",
              "      <td>NORTE</td>\n",
              "      <td>AP</td>\n",
              "      <td>13685332.23</td>\n",
              "    </tr>\n",
              "    <tr>\n",
              "      <th>3</th>\n",
              "      <td>2020</td>\n",
              "      <td>PANDEMIA</td>\n",
              "      <td>NORTE</td>\n",
              "      <td>PA</td>\n",
              "      <td>43874385.12</td>\n",
              "    </tr>\n",
              "    <tr>\n",
              "      <th>4</th>\n",
              "      <td>2020</td>\n",
              "      <td>PANDEMIA</td>\n",
              "      <td>NORTE</td>\n",
              "      <td>RO</td>\n",
              "      <td>17744382.76</td>\n",
              "    </tr>\n",
              "  </tbody>\n",
              "</table>\n",
              "</div>"
            ],
            "text/plain": [
              "    Ano   Assunto Região Estado        Total\n",
              "0  2020  PANDEMIA  NORTE     AC  13296294.00\n",
              "1  2020  PANDEMIA  NORTE     AM  25490722.40\n",
              "2  2020  PANDEMIA  NORTE     AP  13685332.23\n",
              "3  2020  PANDEMIA  NORTE     PA  43874385.12\n",
              "4  2020  PANDEMIA  NORTE     RO  17744382.76"
            ]
          },
          "metadata": {},
          "execution_count": 37
        }
      ]
    },
    {
      "cell_type": "markdown",
      "metadata": {
        "id": "Fey1aetgUxto"
      },
      "source": [
        "b) Consolidação dos recursos MAC, por região e estado, repassados aos entes federativos para enfrentamento da COVID-19. Elaboração da coluna \"Total_percapita\" para aplicação das medidas de posição, elaboração dos gráficos e comparação com os outros conjuntos de dados apresentados."
      ]
    },
    {
      "cell_type": "code",
      "metadata": {
        "id": "m_nGDLFm0G2P",
        "colab": {
          "base_uri": "https://localhost:8080/",
          "height": 205
        },
        "outputId": "5e0158a2-e2d0-41ec-dc8b-9638e812aee6"
      },
      "source": [
        "mac_covid = mac_covid['Total'].groupby([mac_covid['Região'],mac_covid['Estado']]).sum()\n",
        "mac_covid = mac_covid.reset_index()\n",
        "mac_covid = mac_covid.merge(uf, left_on='Estado', right_on='UF')\n",
        "mac_covid.drop(columns=['UF'], inplace=True)\n",
        "mac_covid = mac_covid[['Região','COD_UF','Estado','NOME_ESTADO', 'POP_ESTADO', 'Total']]\n",
        "mac_covid['Total_percapita'] = round(mac_covid['Total']/mac_covid['POP_ESTADO'],2)\n",
        "mac_covid.sort_values('Total_percapita', inplace=True)\n",
        "mac_covid.head()"
      ],
      "execution_count": null,
      "outputs": [
        {
          "output_type": "execute_result",
          "data": {
            "text/html": [
              "<div>\n",
              "<style scoped>\n",
              "    .dataframe tbody tr th:only-of-type {\n",
              "        vertical-align: middle;\n",
              "    }\n",
              "\n",
              "    .dataframe tbody tr th {\n",
              "        vertical-align: top;\n",
              "    }\n",
              "\n",
              "    .dataframe thead th {\n",
              "        text-align: right;\n",
              "    }\n",
              "</style>\n",
              "<table border=\"1\" class=\"dataframe\">\n",
              "  <thead>\n",
              "    <tr style=\"text-align: right;\">\n",
              "      <th></th>\n",
              "      <th>Região</th>\n",
              "      <th>COD_UF</th>\n",
              "      <th>Estado</th>\n",
              "      <th>NOME_ESTADO</th>\n",
              "      <th>POP_ESTADO</th>\n",
              "      <th>Total</th>\n",
              "      <th>Total_percapita</th>\n",
              "    </tr>\n",
              "  </thead>\n",
              "  <tbody>\n",
              "    <tr>\n",
              "      <th>0</th>\n",
              "      <td>CENTRO-OESTE</td>\n",
              "      <td>53</td>\n",
              "      <td>DF</td>\n",
              "      <td>Distrito Federal</td>\n",
              "      <td>3055149</td>\n",
              "      <td>2.857320e+08</td>\n",
              "      <td>93.52</td>\n",
              "    </tr>\n",
              "    <tr>\n",
              "      <th>16</th>\n",
              "      <td>NORTE</td>\n",
              "      <td>15</td>\n",
              "      <td>PA</td>\n",
              "      <td>Pará</td>\n",
              "      <td>8690745</td>\n",
              "      <td>8.897434e+08</td>\n",
              "      <td>102.38</td>\n",
              "    </tr>\n",
              "    <tr>\n",
              "      <th>15</th>\n",
              "      <td>NORTE</td>\n",
              "      <td>16</td>\n",
              "      <td>AP</td>\n",
              "      <td>Amapá</td>\n",
              "      <td>861773</td>\n",
              "      <td>8.894884e+07</td>\n",
              "      <td>103.22</td>\n",
              "    </tr>\n",
              "    <tr>\n",
              "      <th>22</th>\n",
              "      <td>SUDESTE</td>\n",
              "      <td>33</td>\n",
              "      <td>RJ</td>\n",
              "      <td>Rio de Janeiro</td>\n",
              "      <td>17366189</td>\n",
              "      <td>1.811748e+09</td>\n",
              "      <td>104.33</td>\n",
              "    </tr>\n",
              "    <tr>\n",
              "      <th>14</th>\n",
              "      <td>NORTE</td>\n",
              "      <td>13</td>\n",
              "      <td>AM</td>\n",
              "      <td>Amazonas</td>\n",
              "      <td>4207714</td>\n",
              "      <td>4.655411e+08</td>\n",
              "      <td>110.64</td>\n",
              "    </tr>\n",
              "  </tbody>\n",
              "</table>\n",
              "</div>"
            ],
            "text/plain": [
              "          Região COD_UF Estado  ... POP_ESTADO         Total  Total_percapita\n",
              "0   CENTRO-OESTE     53     DF  ...    3055149  2.857320e+08            93.52\n",
              "16         NORTE     15     PA  ...    8690745  8.897434e+08           102.38\n",
              "15         NORTE     16     AP  ...     861773  8.894884e+07           103.22\n",
              "22       SUDESTE     33     RJ  ...   17366189  1.811748e+09           104.33\n",
              "14         NORTE     13     AM  ...    4207714  4.655411e+08           110.64\n",
              "\n",
              "[5 rows x 7 columns]"
            ]
          },
          "metadata": {},
          "execution_count": 38
        }
      ]
    },
    {
      "cell_type": "markdown",
      "metadata": {
        "id": "U5v2y2GC4rci"
      },
      "source": [
        "**1.2.2) Medidas descritivas referentes a média, mediana, desvio padrão e coeficiente de variação.**"
      ]
    },
    {
      "cell_type": "markdown",
      "metadata": {
        "id": "QjfCX52JzGOt"
      },
      "source": [
        "a) Definição de duas funções para aplicação nos conjuntos de dados."
      ]
    },
    {
      "cell_type": "code",
      "metadata": {
        "id": "qXs3Y_maSFih"
      },
      "source": [
        "def med_desc(df):\n",
        "  mean = round(df['Total_percapita'].mean(),2)\n",
        "  median = round(df['Total_percapita'].median(),2)\n",
        "  std = round(df['Total_percapita'].std(),2)\n",
        "  return print(f'Média (Total percapita) = {mean}', f'\\nMediana (Total percapita) = {median}', f'\\nDesvio Padrão (Total percapita) = {std}')  \n",
        "def coef_var(df):\n",
        "  mean = round(df['Total_percapita'].mean(),2)\n",
        "  std = round(df['Total_percapita'].std(),2)\n",
        "  cv=round(std/mean*100,2)\n",
        "  if cv <= 15:\n",
        "   return print(f'Coeficiente de Variação = {cv}% - baixa dispersão: dados homogêneos')\n",
        "  if cv > 15 and cv <= 40:\n",
        "   return print(f'Coeficiente de Variação = {cv}% - média dispersão')\n",
        "  else:\n",
        "   return print(f'Coeficiente de Variação = {cv}% - alta dispersão: dados heterogêneos')"
      ],
      "execution_count": null,
      "outputs": []
    },
    {
      "cell_type": "code",
      "metadata": {
        "colab": {
          "base_uri": "https://localhost:8080/"
        },
        "id": "vf82a3vjBzsi",
        "outputId": "67977e67-8be3-47c4-b8f0-8c22504ca4f0"
      },
      "source": [
        "med_desc(mac_covid)\n",
        "coef_var(mac_covid)"
      ],
      "execution_count": null,
      "outputs": [
        {
          "output_type": "stream",
          "name": "stdout",
          "text": [
            "Média (Total percapita) = 145.48 \n",
            "Mediana (Total percapita) = 145.18 \n",
            "Desvio Padrão (Total percapita) = 26.88\n",
            "Coeficiente de Variação = 18.48% - média dispersão\n"
          ]
        }
      ]
    },
    {
      "cell_type": "code",
      "metadata": {
        "id": "tZOy6hFS7Xfy",
        "colab": {
          "base_uri": "https://localhost:8080/",
          "height": 585
        },
        "outputId": "ad629faa-393e-4a5b-db4b-405aaafc8845"
      },
      "source": [
        "fig, ax = plt.subplots(figsize=(10,8))\n",
        "mac_covid.plot(kind='bar',x='NOME_ESTADO',y='Total_percapita', ax=ax)\n",
        "ax.set_title(\"Total percapita por estado\",fontdict={'fontsize':15})\n",
        "ax.set_xlabel('Estados')\n",
        "ax.set_ylabel('Valor (R$)')\n",
        "ax.tick_params(labelsize=10)\n",
        "fig.tight_layout()\n",
        "plt.show()"
      ],
      "execution_count": null,
      "outputs": [
        {
          "output_type": "display_data",
          "data": {
            "image/png": "[encoded data removed]",
            "text/plain": [
              "<Figure size 720x576 with 1 Axes>"
            ]
          },
          "metadata": {
            "needs_background": "light"
          }
        }
      ]
    },
    {
      "cell_type": "code",
      "metadata": {
        "colab": {
          "base_uri": "https://localhost:8080/",
          "height": 401
        },
        "id": "G-9O21EqFMEs",
        "outputId": "f3d91eed-5ec1-4a9b-9502-8661d808045b"
      },
      "source": [
        "sns.catplot(y='Total_percapita', kind=\"box\",data=mac_covid, height=5, palette='pastel')\n",
        "sns.stripplot(y='Total_percapita', data=mac_covid, color=\"blue\",hue='Estado')\n",
        "plt.title('Distribuição do gasto percapita nos estados', fontsize=10)\n",
        "plt.xlabel('Unidades Federativas')\n",
        "plt.ylabel('Total percapita')\n",
        "plt.show()"
      ],
      "execution_count": null,
      "outputs": [
        {
          "output_type": "display_data",
          "data": {
            "image/png": "[encoded data removed]",
            "text/plain": [
              "<Figure size 360x360 with 1 Axes>"
            ]
          },
          "metadata": {
            "needs_background": "light"
          }
        }
      ]
    },
    {
      "cell_type": "code",
      "metadata": {
        "colab": {
          "base_uri": "https://localhost:8080/",
          "height": 835
        },
        "id": "OS1j3O12BHWK",
        "outputId": "6ec1e0fd-1b47-4c38-8a6f-f0c5ee3cf42b"
      },
      "source": [
        "sns.relplot(x=\"POP_ESTADO\", y=\"Total\", hue='Estado', data=mac_covid,height=5, palette='Accent')\n",
        "plt.title('Relação população x recursos MAC (COVID)', fontsize=12)\n",
        "plt.xlabel('População Estado')\n",
        "plt.ylabel('Total transferido (R$)')\n",
        "sns.relplot(x=\"POP_ESTADO\", y=\"Total\", hue='Estado', data=mac_covid, col='Região')\n",
        "plt.xlabel('População Estado')\n",
        "plt.ylabel('Total de recursos repassado')\n",
        "plt.show()"
      ],
      "execution_count": null,
      "outputs": [
        {
          "output_type": "display_data",
          "data": {
            "image/png": "[encoded data removed]",
            "text/plain": [
              "<Figure size 412.375x360 with 1 Axes>"
            ]
          },
          "metadata": {
            "needs_background": "light"
          }
        },
        {
          "output_type": "display_data",
          "data": {
            "image/png": "[encoded data removed]",
            "text/plain": [
              "<Figure size 1852.38x360 with 5 Axes>"
            ]
          },
          "metadata": {
            "needs_background": "light"
          }
        }
      ]
    },
    {
      "cell_type": "markdown",
      "metadata": {
        "id": "PLfVqSBu9tyA"
      },
      "source": [
        "## **Conclusão** ##\n",
        "\n",
        "As medidas de posição indicaram uma distribuição simétrica dos dados sobre o total per capita, com a média e mediana se apresentando em valores quase idênticos. O coeficiente de variação alcançou 18,48%, apontando para uma média dispersão dos dados. \n",
        "\n",
        "No gráfico de barras verifica-se que os estados de Santa Catarina, Piauí e Espírito Santo foram as unidades federativas que mais receberam recursos federais por habitante no âmbito do MAC para enfrentamento da Covid-19.  No lado oposto, destacam-se negativamente o Distrito Federal e os estados do Pará e Amapá. \n",
        "\n",
        "O gráfico boxplot não indicou a ocorrência de valores discrepantes (outliers), mas é possível verificar que 50% dos estados que se posicionam acima da mediana apresentam uma concentração de valores per capita maiores (entre 145,18 a 180,92 reais) do que os outros 50% abaixo da mediana (entre 93,52 a 145,18 reais).\n",
        "\n",
        "O gráfico de dispersão indica poucos estados de descolando de uma linha central, mas no geral percebe-se que há a manutenção de uma relação entre a população dos estados e o total de recursos transferidos. \n"
      ]
    },
    {
      "cell_type": "markdown",
      "metadata": {
        "id": "U_GkbZQIjBpe"
      },
      "source": [
        "### **1.3) Dados referentes aos recursos federais destinados ao financiamento de ações e serviços ambulatoriais e hospitalares de média e alta complexidade (Teto MAC), por estado.**\n",
        "\n",
        "- Variáveis qualitativas\n",
        "\n",
        "  - Nominais: COD_UF, NOME_ESTADO, UF\n",
        "\n",
        "- Variáveis quantitativas\n",
        "\n",
        "  - Contínuas: 2017 a 2020\n",
        "\n"
      ]
    },
    {
      "cell_type": "code",
      "metadata": {
        "id": "94VVXe4dzwyL",
        "colab": {
          "base_uri": "https://localhost:8080/",
          "height": 205
        },
        "outputId": "7c94a9d8-66a3-486e-fc0e-c4a53900fb2b"
      },
      "source": [
        "teto_mac = pd.read_csv('https://raw.githubusercontent.com/julianonuness/julianonuness/main/Limite%20Teto%20Mac%20Estados%202017%20a%202020.csv', sep=',', na_values='-', decimal='.',  dtype={'COD_UF': str})\n",
        "teto_mac.head()"
      ],
      "execution_count": null,
      "outputs": [
        {
          "output_type": "execute_result",
          "data": {
            "text/html": [
              "<div>\n",
              "<style scoped>\n",
              "    .dataframe tbody tr th:only-of-type {\n",
              "        vertical-align: middle;\n",
              "    }\n",
              "\n",
              "    .dataframe tbody tr th {\n",
              "        vertical-align: top;\n",
              "    }\n",
              "\n",
              "    .dataframe thead th {\n",
              "        text-align: right;\n",
              "    }\n",
              "</style>\n",
              "<table border=\"1\" class=\"dataframe\">\n",
              "  <thead>\n",
              "    <tr style=\"text-align: right;\">\n",
              "      <th></th>\n",
              "      <th>COD_UF</th>\n",
              "      <th>NOME_ESTADO</th>\n",
              "      <th>UF</th>\n",
              "      <th>2017</th>\n",
              "      <th>2018</th>\n",
              "      <th>2019</th>\n",
              "      <th>2020</th>\n",
              "    </tr>\n",
              "  </thead>\n",
              "  <tbody>\n",
              "    <tr>\n",
              "      <th>0</th>\n",
              "      <td>11</td>\n",
              "      <td>Rondônia</td>\n",
              "      <td>RO</td>\n",
              "      <td>3.628640e+08</td>\n",
              "      <td>3.940109e+08</td>\n",
              "      <td>4.009512e+08</td>\n",
              "      <td>4.045951e+08</td>\n",
              "    </tr>\n",
              "    <tr>\n",
              "      <th>1</th>\n",
              "      <td>12</td>\n",
              "      <td>Acre</td>\n",
              "      <td>AC</td>\n",
              "      <td>1.951294e+08</td>\n",
              "      <td>1.991354e+08</td>\n",
              "      <td>2.044677e+08</td>\n",
              "      <td>2.048120e+08</td>\n",
              "    </tr>\n",
              "    <tr>\n",
              "      <th>2</th>\n",
              "      <td>13</td>\n",
              "      <td>Amazonas</td>\n",
              "      <td>AM</td>\n",
              "      <td>5.649041e+08</td>\n",
              "      <td>5.644272e+08</td>\n",
              "      <td>5.740311e+08</td>\n",
              "      <td>5.652350e+08</td>\n",
              "    </tr>\n",
              "    <tr>\n",
              "      <th>3</th>\n",
              "      <td>14</td>\n",
              "      <td>Roraima</td>\n",
              "      <td>RR</td>\n",
              "      <td>1.207170e+08</td>\n",
              "      <td>1.339239e+08</td>\n",
              "      <td>1.367971e+08</td>\n",
              "      <td>1.369934e+08</td>\n",
              "    </tr>\n",
              "    <tr>\n",
              "      <th>4</th>\n",
              "      <td>15</td>\n",
              "      <td>Pará</td>\n",
              "      <td>PA</td>\n",
              "      <td>1.149954e+09</td>\n",
              "      <td>1.181004e+09</td>\n",
              "      <td>1.267017e+09</td>\n",
              "      <td>1.297795e+09</td>\n",
              "    </tr>\n",
              "  </tbody>\n",
              "</table>\n",
              "</div>"
            ],
            "text/plain": [
              "  COD_UF NOME_ESTADO  UF  ...          2018          2019          2020\n",
              "0     11    Rondônia  RO  ...  3.940109e+08  4.009512e+08  4.045951e+08\n",
              "1     12        Acre  AC  ...  1.991354e+08  2.044677e+08  2.048120e+08\n",
              "2     13    Amazonas  AM  ...  5.644272e+08  5.740311e+08  5.652350e+08\n",
              "3     14     Roraima  RR  ...  1.339239e+08  1.367971e+08  1.369934e+08\n",
              "4     15        Pará  PA  ...  1.181004e+09  1.267017e+09  1.297795e+09\n",
              "\n",
              "[5 rows x 7 columns]"
            ]
          },
          "metadata": {},
          "execution_count": 44
        }
      ]
    },
    {
      "cell_type": "markdown",
      "metadata": {
        "id": "-pwsbvBj3vWa"
      },
      "source": [
        "**1.3.1) O tratamento dos dados envolveu:**"
      ]
    },
    {
      "cell_type": "markdown",
      "metadata": {
        "id": "wTn0tI9A_hg1"
      },
      "source": [
        "a) A junção do dataset \"teto_mac\" com o dataset \"Uf\", indicação do total repassado entre 2017 a 2020, além da inclusão da coluna \"Total_percapita\"."
      ]
    },
    {
      "cell_type": "code",
      "metadata": {
        "id": "ptXcoeC6SMZC",
        "colab": {
          "base_uri": "https://localhost:8080/",
          "height": 205
        },
        "outputId": "f0a07ac2-a33a-4336-c928-5012e560da8a"
      },
      "source": [
        "teto_mac['Total'] = teto_mac['2017'] + teto_mac['2018'] + teto_mac['2019'] + teto_mac['2020']\n",
        "teto_mac = teto_mac.merge(uf, on='COD_UF')\n",
        "teto_mac.drop(columns=['NOME_ESTADO_y', 'UF_y'], inplace=True)\n",
        "teto_mac.rename(columns={'NOME_ESTADO_x':'NOME_ESTADO','UF_x':'UF'}, inplace=True)\n",
        "teto_mac = teto_mac[['COD_UF','UF','NOME_ESTADO','POP_ESTADO','2017','2018', '2019', '2020', 'Total']]\n",
        "teto_mac['Total_percapita'] = round(teto_mac['2020']/teto_mac['POP_ESTADO'], 2)\n",
        "teto_mac.sort_values('Total_percapita', inplace=True)\n",
        "teto_mac.iloc[:,[0,1,2,3,8,9]].head()"
      ],
      "execution_count": null,
      "outputs": [
        {
          "output_type": "execute_result",
          "data": {
            "text/html": [
              "<div>\n",
              "<style scoped>\n",
              "    .dataframe tbody tr th:only-of-type {\n",
              "        vertical-align: middle;\n",
              "    }\n",
              "\n",
              "    .dataframe tbody tr th {\n",
              "        vertical-align: top;\n",
              "    }\n",
              "\n",
              "    .dataframe thead th {\n",
              "        text-align: right;\n",
              "    }\n",
              "</style>\n",
              "<table border=\"1\" class=\"dataframe\">\n",
              "  <thead>\n",
              "    <tr style=\"text-align: right;\">\n",
              "      <th></th>\n",
              "      <th>COD_UF</th>\n",
              "      <th>UF</th>\n",
              "      <th>NOME_ESTADO</th>\n",
              "      <th>POP_ESTADO</th>\n",
              "      <th>Total</th>\n",
              "      <th>Total_percapita</th>\n",
              "    </tr>\n",
              "  </thead>\n",
              "  <tbody>\n",
              "    <tr>\n",
              "      <th>2</th>\n",
              "      <td>13</td>\n",
              "      <td>AM</td>\n",
              "      <td>Amazonas</td>\n",
              "      <td>4207714</td>\n",
              "      <td>2.268597e+09</td>\n",
              "      <td>134.33</td>\n",
              "    </tr>\n",
              "    <tr>\n",
              "      <th>4</th>\n",
              "      <td>15</td>\n",
              "      <td>PA</td>\n",
              "      <td>Pará</td>\n",
              "      <td>8690745</td>\n",
              "      <td>4.895770e+09</td>\n",
              "      <td>149.33</td>\n",
              "    </tr>\n",
              "    <tr>\n",
              "      <th>5</th>\n",
              "      <td>16</td>\n",
              "      <td>AP</td>\n",
              "      <td>Amapá</td>\n",
              "      <td>861773</td>\n",
              "      <td>4.954744e+08</td>\n",
              "      <td>151.06</td>\n",
              "    </tr>\n",
              "    <tr>\n",
              "      <th>7</th>\n",
              "      <td>21</td>\n",
              "      <td>MA</td>\n",
              "      <td>Maranhão</td>\n",
              "      <td>7114598</td>\n",
              "      <td>4.415572e+09</td>\n",
              "      <td>160.61</td>\n",
              "    </tr>\n",
              "    <tr>\n",
              "      <th>26</th>\n",
              "      <td>53</td>\n",
              "      <td>DF</td>\n",
              "      <td>Distrito Federal</td>\n",
              "      <td>3055149</td>\n",
              "      <td>1.970574e+09</td>\n",
              "      <td>171.06</td>\n",
              "    </tr>\n",
              "  </tbody>\n",
              "</table>\n",
              "</div>"
            ],
            "text/plain": [
              "   COD_UF  UF       NOME_ESTADO  POP_ESTADO         Total  Total_percapita\n",
              "2      13  AM          Amazonas     4207714  2.268597e+09           134.33\n",
              "4      15  PA              Pará     8690745  4.895770e+09           149.33\n",
              "5      16  AP             Amapá      861773  4.954744e+08           151.06\n",
              "7      21  MA          Maranhão     7114598  4.415572e+09           160.61\n",
              "26     53  DF  Distrito Federal     3055149  1.970574e+09           171.06"
            ]
          },
          "metadata": {},
          "execution_count": 45
        }
      ]
    },
    {
      "cell_type": "markdown",
      "metadata": {
        "id": "iFE5jX6d5Jz8"
      },
      "source": [
        "**1.3.2) Medidas descritivas referentes a média, mediana, desvio padrão e coeficiente de variação.**"
      ]
    },
    {
      "cell_type": "code",
      "metadata": {
        "colab": {
          "base_uri": "https://localhost:8080/"
        },
        "id": "pRxmGjAdCEUm",
        "outputId": "69160139-aaec-4c79-a58b-834a0b82ed64"
      },
      "source": [
        "med_desc(teto_mac)\n",
        "coef_var(teto_mac)"
      ],
      "execution_count": null,
      "outputs": [
        {
          "output_type": "stream",
          "name": "stdout",
          "text": [
            "Média (Total percapita) = 212.86 \n",
            "Mediana (Total percapita) = 219.02 \n",
            "Desvio Padrão (Total percapita) = 34.39\n",
            "Coeficiente de Variação = 16.16% - média dispersão\n"
          ]
        }
      ]
    },
    {
      "cell_type": "code",
      "metadata": {
        "colab": {
          "base_uri": "https://localhost:8080/",
          "height": 585
        },
        "id": "rKh0dqd0531P",
        "outputId": "c38d3f7c-bd66-452c-d0cd-52c7bb531e23"
      },
      "source": [
        "fig, ax = plt.subplots(figsize=(10,8))\n",
        "teto_mac.plot(kind='bar',x='NOME_ESTADO',y='Total_percapita', ax=ax)\n",
        "ax.set_title(\"Total percapita por estado\",fontdict={'fontsize':15})\n",
        "ax.set_xlabel('Estados')\n",
        "ax.set_ylabel('Valor (R$)')\n",
        "ax.tick_params(labelsize=10)\n",
        "fig.tight_layout()\n",
        "plt.show()"
      ],
      "execution_count": null,
      "outputs": [
        {
          "output_type": "display_data",
          "data": {
            "image/png": "[encoded data removed]",
            "text/plain": [
              "<Figure size 720x576 with 1 Axes>"
            ]
          },
          "metadata": {
            "needs_background": "light"
          }
        }
      ]
    },
    {
      "cell_type": "code",
      "metadata": {
        "colab": {
          "base_uri": "https://localhost:8080/",
          "height": 545
        },
        "id": "153uEFj9NR5r",
        "outputId": "e009215e-3281-40a0-bc87-e4d495d74186"
      },
      "source": [
        "sns.catplot(y='Total_percapita', kind=\"box\",data=teto_mac,height=7, palette='pastel')\n",
        "sns.stripplot(y='Total_percapita', data=teto_mac, color=\"blue\",hue='UF')\n",
        "plt.title('Distribuição dos recursos do Teto MAC aos estados', fontsize=10)\n",
        "plt.xlabel('Unidades Federativas')\n",
        "plt.ylabel('Total percapita')\n",
        "plt.show()"
      ],
      "execution_count": null,
      "outputs": [
        {
          "output_type": "display_data",
          "data": {
            "image/png": "[encoded data removed]",
            "text/plain": [
              "<Figure size 504x504 with 1 Axes>"
            ]
          },
          "metadata": {
            "needs_background": "light"
          }
        }
      ]
    },
    {
      "cell_type": "code",
      "metadata": {
        "colab": {
          "base_uri": "https://localhost:8080/",
          "height": 454
        },
        "id": "KQRs38ATHTJi",
        "outputId": "91f659f2-be5b-4e2f-b5a8-107c10fbdb63"
      },
      "source": [
        "sns.relplot(x=\"POP_ESTADO\", y=\"2020\", hue='UF', data=teto_mac,height=5, palette='Accent')\n",
        "plt.title('Relação população x recursos Teto MAC', fontsize=12)\n",
        "plt.xlabel('População Estado')\n",
        "plt.ylabel('Total transferido (R$)')\n",
        "plt.show()"
      ],
      "execution_count": null,
      "outputs": [
        {
          "output_type": "display_data",
          "data": {
            "image/png": "[encoded data removed]",
            "text/plain": [
              "<Figure size 412.375x360 with 1 Axes>"
            ]
          },
          "metadata": {
            "needs_background": "light"
          }
        }
      ]
    },
    {
      "cell_type": "markdown",
      "metadata": {
        "id": "HlU6HlMWFLNh"
      },
      "source": [
        "## **Conclusão** ##\n",
        "\n",
        "As medidas de posição indicaram uma distribuição assimétrica negativa dos dados sobre o total per capita, com a mediana se sobrepondo à média. O coeficiente de variação alcançou 16,16%, apontando para uma média dispersão dos dados. \n",
        "\n",
        "O gráfico de barras indicou que os estados de Tocantins, Rio Grande do Sul e Mato Grosso do Sul apresentaram os maiores valores per capita por habitante no âmbito do Teto-MAC.  No lado oposto, destacam-se negativamente o Amazonas, Pará, Amapá, Maranhão e Distrito Federal, apresentando uma variação mais heterogênea em relação ao restante das unidades federativas. Verifica-se que coeficiente de variação poderia ter indicado inclusive uma homogeneidade maior, porém os cincos estados com os menores totais per capita se descolaram do nível de variação dos outros estados, provavelmente impactando sobre esse aspecto.\n",
        "\n",
        "O gráfico boxplot indicou a ocorrência de valores discrepantes (outliers) para 3 unidades federativas. Da mesma forma que no caso anterior, foi possível verificar que 50% dos estados que se posicionaram acima da mediana apresentaram uma concentração de valores per capita maiores (entre 219,02 a 264,57 reais) do que os outros 50% abaixo da mediana (entre 134,33 a 219,02 reais).\n",
        "\n",
        "Da mesma forma que apresentado anteriormente, o gráfico de dispersão indicou poucos estados de descolando de uma linha central e no geral havendo uma certa relação entre a população dos estados e o total de recursos transferidos pelo Teto MAC. \n"
      ]
    },
    {
      "cell_type": "markdown",
      "metadata": {
        "id": "WDA7F1-AJe4-"
      },
      "source": [
        "### **1.4) Dados referentes aos valores aprovados de produção ambulatorial e hospitalar dos entes federativos entre os exercícios de 2017 a 2020.**\n",
        "\n",
        "**1.4.1) Dados do sistema de informação hospitalar e ambulatorial - Valores aprovados de produção hospitalar e ambulatorial por Município.**\n",
        "\n",
        "- Variáveis qualitativas\n",
        "\n",
        "  - Nominais: Município Gestor\n",
        "\n",
        "- Variáveis quantitativas\n",
        "\n",
        "  - Contínuas: 2017 a 2020, Total"
      ]
    },
    {
      "cell_type": "code",
      "metadata": {
        "id": "4itg1fSQZQTa",
        "colab": {
          "base_uri": "https://localhost:8080/",
          "height": 205
        },
        "outputId": "115b9ee8-5127-49e4-a208-80233231e2e9"
      },
      "source": [
        "sih = pd.read_csv('https://raw.githubusercontent.com/julianonuness/julianonuness/main/Produ%C3%A7%C3%A3o%20SIH%202017%20a%202020%20-%20Valor%20aprovado.csv',sep=';', na_values='-', skiprows=4, skipfooter=12, encoding='latin1', engine='python', decimal=',')\n",
        "sih.head()\n"
      ],
      "execution_count": null,
      "outputs": [
        {
          "output_type": "execute_result",
          "data": {
            "text/html": [
              "<div>\n",
              "<style scoped>\n",
              "    .dataframe tbody tr th:only-of-type {\n",
              "        vertical-align: middle;\n",
              "    }\n",
              "\n",
              "    .dataframe tbody tr th {\n",
              "        vertical-align: top;\n",
              "    }\n",
              "\n",
              "    .dataframe thead th {\n",
              "        text-align: right;\n",
              "    }\n",
              "</style>\n",
              "<table border=\"1\" class=\"dataframe\">\n",
              "  <thead>\n",
              "    <tr style=\"text-align: right;\">\n",
              "      <th></th>\n",
              "      <th>Município gestor</th>\n",
              "      <th>2017</th>\n",
              "      <th>2018</th>\n",
              "      <th>2019</th>\n",
              "      <th>2020</th>\n",
              "      <th>Total</th>\n",
              "    </tr>\n",
              "  </thead>\n",
              "  <tbody>\n",
              "    <tr>\n",
              "      <th>0</th>\n",
              "      <td>110001 Alta Floresta D'Oeste</td>\n",
              "      <td>626343.21</td>\n",
              "      <td>653669.39</td>\n",
              "      <td>652942.03</td>\n",
              "      <td>480319.05</td>\n",
              "      <td>2413273.68</td>\n",
              "    </tr>\n",
              "    <tr>\n",
              "      <th>1</th>\n",
              "      <td>110037 Alto Alegre dos Parecis</td>\n",
              "      <td>190399.87</td>\n",
              "      <td>122482.11</td>\n",
              "      <td>121618.02</td>\n",
              "      <td>123692.17</td>\n",
              "      <td>558192.17</td>\n",
              "    </tr>\n",
              "    <tr>\n",
              "      <th>2</th>\n",
              "      <td>110040 Alto Paraíso</td>\n",
              "      <td>129443.66</td>\n",
              "      <td>117265.94</td>\n",
              "      <td>142301.54</td>\n",
              "      <td>130504.45</td>\n",
              "      <td>519515.59</td>\n",
              "    </tr>\n",
              "    <tr>\n",
              "      <th>3</th>\n",
              "      <td>110034 Alvorada D'Oeste</td>\n",
              "      <td>179733.93</td>\n",
              "      <td>210702.35</td>\n",
              "      <td>167355.11</td>\n",
              "      <td>96707.73</td>\n",
              "      <td>654499.12</td>\n",
              "    </tr>\n",
              "    <tr>\n",
              "      <th>4</th>\n",
              "      <td>110002 Ariquemes</td>\n",
              "      <td>2926806.13</td>\n",
              "      <td>2619731.04</td>\n",
              "      <td>2840560.44</td>\n",
              "      <td>5627018.38</td>\n",
              "      <td>14014115.99</td>\n",
              "    </tr>\n",
              "  </tbody>\n",
              "</table>\n",
              "</div>"
            ],
            "text/plain": [
              "                 Município gestor        2017  ...        2020        Total\n",
              "0    110001 Alta Floresta D'Oeste   626343.21  ...   480319.05   2413273.68\n",
              "1  110037 Alto Alegre dos Parecis   190399.87  ...   123692.17    558192.17\n",
              "2             110040 Alto Paraíso   129443.66  ...   130504.45    519515.59\n",
              "3         110034 Alvorada D'Oeste   179733.93  ...    96707.73    654499.12\n",
              "4                110002 Ariquemes  2926806.13  ...  5627018.38  14014115.99\n",
              "\n",
              "[5 rows x 6 columns]"
            ]
          },
          "metadata": {},
          "execution_count": 50
        }
      ]
    },
    {
      "cell_type": "code",
      "metadata": {
        "id": "OUXdVygauJVP",
        "colab": {
          "base_uri": "https://localhost:8080/",
          "height": 205
        },
        "outputId": "67acd1fe-b332-4ce5-eab7-bc4392b5cb28"
      },
      "source": [
        "sia = pd.read_csv('https://raw.githubusercontent.com/julianonuness/julianonuness/main/Produ%C3%A7%C3%A3o%20SIA%202017%20a%202020%20-%20Valor%20aprovado.csv',sep=';', na_values='-', skiprows=4, skipfooter=12, encoding='latin1', engine='python', decimal=',')\n",
        "sia.head()"
      ],
      "execution_count": null,
      "outputs": [
        {
          "output_type": "execute_result",
          "data": {
            "text/html": [
              "<div>\n",
              "<style scoped>\n",
              "    .dataframe tbody tr th:only-of-type {\n",
              "        vertical-align: middle;\n",
              "    }\n",
              "\n",
              "    .dataframe tbody tr th {\n",
              "        vertical-align: top;\n",
              "    }\n",
              "\n",
              "    .dataframe thead th {\n",
              "        text-align: right;\n",
              "    }\n",
              "</style>\n",
              "<table border=\"1\" class=\"dataframe\">\n",
              "  <thead>\n",
              "    <tr style=\"text-align: right;\">\n",
              "      <th></th>\n",
              "      <th>Município gestor</th>\n",
              "      <th>2017</th>\n",
              "      <th>2018</th>\n",
              "      <th>2019</th>\n",
              "      <th>2020</th>\n",
              "      <th>Total</th>\n",
              "    </tr>\n",
              "  </thead>\n",
              "  <tbody>\n",
              "    <tr>\n",
              "      <th>0</th>\n",
              "      <td>110001 Alta Floresta D'Oeste</td>\n",
              "      <td>621403.84</td>\n",
              "      <td>625953.26</td>\n",
              "      <td>648806.99</td>\n",
              "      <td>650691.20</td>\n",
              "      <td>2546855.29</td>\n",
              "    </tr>\n",
              "    <tr>\n",
              "      <th>1</th>\n",
              "      <td>110037 Alto Alegre dos Parecis</td>\n",
              "      <td>11386.19</td>\n",
              "      <td>182484.07</td>\n",
              "      <td>146321.52</td>\n",
              "      <td>185304.33</td>\n",
              "      <td>525496.11</td>\n",
              "    </tr>\n",
              "    <tr>\n",
              "      <th>2</th>\n",
              "      <td>110040 Alto Paraíso</td>\n",
              "      <td>24215.94</td>\n",
              "      <td>42984.93</td>\n",
              "      <td>213873.05</td>\n",
              "      <td>251764.14</td>\n",
              "      <td>532838.06</td>\n",
              "    </tr>\n",
              "    <tr>\n",
              "      <th>3</th>\n",
              "      <td>110034 Alvorada D'Oeste</td>\n",
              "      <td>264871.45</td>\n",
              "      <td>366903.28</td>\n",
              "      <td>287068.43</td>\n",
              "      <td>20037.86</td>\n",
              "      <td>938881.02</td>\n",
              "    </tr>\n",
              "    <tr>\n",
              "      <th>4</th>\n",
              "      <td>110002 Ariquemes</td>\n",
              "      <td>4425683.48</td>\n",
              "      <td>4928124.22</td>\n",
              "      <td>6406874.89</td>\n",
              "      <td>5198273.92</td>\n",
              "      <td>20958956.51</td>\n",
              "    </tr>\n",
              "  </tbody>\n",
              "</table>\n",
              "</div>"
            ],
            "text/plain": [
              "                 Município gestor        2017  ...        2020        Total\n",
              "0    110001 Alta Floresta D'Oeste   621403.84  ...   650691.20   2546855.29\n",
              "1  110037 Alto Alegre dos Parecis    11386.19  ...   185304.33    525496.11\n",
              "2             110040 Alto Paraíso    24215.94  ...   251764.14    532838.06\n",
              "3         110034 Alvorada D'Oeste   264871.45  ...    20037.86    938881.02\n",
              "4                110002 Ariquemes  4425683.48  ...  5198273.92  20958956.51\n",
              "\n",
              "[5 rows x 6 columns]"
            ]
          },
          "metadata": {},
          "execution_count": 51
        }
      ]
    },
    {
      "cell_type": "markdown",
      "metadata": {
        "id": "bkBIRK7MuzgS"
      },
      "source": [
        "**1.4.2) No tratamento de dados foram realizados:**"
      ]
    },
    {
      "cell_type": "markdown",
      "metadata": {
        "id": "rhzmdjtNGldS"
      },
      "source": [
        "a) O isolamento do código IBGE para junção dos dois datasets (Sih e Sia)"
      ]
    },
    {
      "cell_type": "code",
      "metadata": {
        "id": "i0HgCEBFsxtV",
        "colab": {
          "base_uri": "https://localhost:8080/",
          "height": 205
        },
        "outputId": "4e75f549-b912-46d3-fdda-e4fd4d6bf599"
      },
      "source": [
        "sih.rename(columns={'Município gestor': 'Municipio'}, inplace= True)\n",
        "sih['cod_ibge'] = [x.split(' ')[0] for x in sih['Municipio']]\n",
        "sih['Municipio'] = [' '.join(x.split(' ')[1:]) for x in sih['Municipio']]\n",
        "sih.drop([2110], inplace=True)\n",
        "sih = sih[['cod_ibge', 'Municipio','2017', '2018','2019','2020','Total']]\n",
        "sih.head()"
      ],
      "execution_count": null,
      "outputs": [
        {
          "output_type": "execute_result",
          "data": {
            "text/html": [
              "<div>\n",
              "<style scoped>\n",
              "    .dataframe tbody tr th:only-of-type {\n",
              "        vertical-align: middle;\n",
              "    }\n",
              "\n",
              "    .dataframe tbody tr th {\n",
              "        vertical-align: top;\n",
              "    }\n",
              "\n",
              "    .dataframe thead th {\n",
              "        text-align: right;\n",
              "    }\n",
              "</style>\n",
              "<table border=\"1\" class=\"dataframe\">\n",
              "  <thead>\n",
              "    <tr style=\"text-align: right;\">\n",
              "      <th></th>\n",
              "      <th>cod_ibge</th>\n",
              "      <th>Municipio</th>\n",
              "      <th>2017</th>\n",
              "      <th>2018</th>\n",
              "      <th>2019</th>\n",
              "      <th>2020</th>\n",
              "      <th>Total</th>\n",
              "    </tr>\n",
              "  </thead>\n",
              "  <tbody>\n",
              "    <tr>\n",
              "      <th>0</th>\n",
              "      <td>110001</td>\n",
              "      <td>Alta Floresta D'Oeste</td>\n",
              "      <td>626343.21</td>\n",
              "      <td>653669.39</td>\n",
              "      <td>652942.03</td>\n",
              "      <td>480319.05</td>\n",
              "      <td>2413273.68</td>\n",
              "    </tr>\n",
              "    <tr>\n",
              "      <th>1</th>\n",
              "      <td>110037</td>\n",
              "      <td>Alto Alegre dos Parecis</td>\n",
              "      <td>190399.87</td>\n",
              "      <td>122482.11</td>\n",
              "      <td>121618.02</td>\n",
              "      <td>123692.17</td>\n",
              "      <td>558192.17</td>\n",
              "    </tr>\n",
              "    <tr>\n",
              "      <th>2</th>\n",
              "      <td>110040</td>\n",
              "      <td>Alto Paraíso</td>\n",
              "      <td>129443.66</td>\n",
              "      <td>117265.94</td>\n",
              "      <td>142301.54</td>\n",
              "      <td>130504.45</td>\n",
              "      <td>519515.59</td>\n",
              "    </tr>\n",
              "    <tr>\n",
              "      <th>3</th>\n",
              "      <td>110034</td>\n",
              "      <td>Alvorada D'Oeste</td>\n",
              "      <td>179733.93</td>\n",
              "      <td>210702.35</td>\n",
              "      <td>167355.11</td>\n",
              "      <td>96707.73</td>\n",
              "      <td>654499.12</td>\n",
              "    </tr>\n",
              "    <tr>\n",
              "      <th>4</th>\n",
              "      <td>110002</td>\n",
              "      <td>Ariquemes</td>\n",
              "      <td>2926806.13</td>\n",
              "      <td>2619731.04</td>\n",
              "      <td>2840560.44</td>\n",
              "      <td>5627018.38</td>\n",
              "      <td>14014115.99</td>\n",
              "    </tr>\n",
              "  </tbody>\n",
              "</table>\n",
              "</div>"
            ],
            "text/plain": [
              "  cod_ibge                Municipio  ...        2020        Total\n",
              "0   110001    Alta Floresta D'Oeste  ...   480319.05   2413273.68\n",
              "1   110037  Alto Alegre dos Parecis  ...   123692.17    558192.17\n",
              "2   110040             Alto Paraíso  ...   130504.45    519515.59\n",
              "3   110034         Alvorada D'Oeste  ...    96707.73    654499.12\n",
              "4   110002                Ariquemes  ...  5627018.38  14014115.99\n",
              "\n",
              "[5 rows x 7 columns]"
            ]
          },
          "metadata": {},
          "execution_count": 52
        }
      ]
    },
    {
      "cell_type": "code",
      "metadata": {
        "id": "UNC6-aJheZg3",
        "colab": {
          "base_uri": "https://localhost:8080/",
          "height": 205
        },
        "outputId": "c684962b-4a28-46f2-d8ad-107c0612e8f9"
      },
      "source": [
        "sia.rename(columns={'Município gestor': 'Municipio'}, inplace= True)\n",
        "sia['cod_ibge'] = sia['Municipio'].apply(lambda x: x.split(' ')[0])\n",
        "sia['Municipio'] = sia['Municipio'].apply(lambda x: ' '.join(x.split(' ')[1:]))\n",
        "sia.drop([4355], inplace = True)\n",
        "sia = sia[['cod_ibge', 'Municipio','2017', '2018','2019','2020','Total']]\n",
        "sia.head()"
      ],
      "execution_count": null,
      "outputs": [
        {
          "output_type": "execute_result",
          "data": {
            "text/html": [
              "<div>\n",
              "<style scoped>\n",
              "    .dataframe tbody tr th:only-of-type {\n",
              "        vertical-align: middle;\n",
              "    }\n",
              "\n",
              "    .dataframe tbody tr th {\n",
              "        vertical-align: top;\n",
              "    }\n",
              "\n",
              "    .dataframe thead th {\n",
              "        text-align: right;\n",
              "    }\n",
              "</style>\n",
              "<table border=\"1\" class=\"dataframe\">\n",
              "  <thead>\n",
              "    <tr style=\"text-align: right;\">\n",
              "      <th></th>\n",
              "      <th>cod_ibge</th>\n",
              "      <th>Municipio</th>\n",
              "      <th>2017</th>\n",
              "      <th>2018</th>\n",
              "      <th>2019</th>\n",
              "      <th>2020</th>\n",
              "      <th>Total</th>\n",
              "    </tr>\n",
              "  </thead>\n",
              "  <tbody>\n",
              "    <tr>\n",
              "      <th>0</th>\n",
              "      <td>110001</td>\n",
              "      <td>Alta Floresta D'Oeste</td>\n",
              "      <td>621403.84</td>\n",
              "      <td>625953.26</td>\n",
              "      <td>648806.99</td>\n",
              "      <td>650691.20</td>\n",
              "      <td>2546855.29</td>\n",
              "    </tr>\n",
              "    <tr>\n",
              "      <th>1</th>\n",
              "      <td>110037</td>\n",
              "      <td>Alto Alegre dos Parecis</td>\n",
              "      <td>11386.19</td>\n",
              "      <td>182484.07</td>\n",
              "      <td>146321.52</td>\n",
              "      <td>185304.33</td>\n",
              "      <td>525496.11</td>\n",
              "    </tr>\n",
              "    <tr>\n",
              "      <th>2</th>\n",
              "      <td>110040</td>\n",
              "      <td>Alto Paraíso</td>\n",
              "      <td>24215.94</td>\n",
              "      <td>42984.93</td>\n",
              "      <td>213873.05</td>\n",
              "      <td>251764.14</td>\n",
              "      <td>532838.06</td>\n",
              "    </tr>\n",
              "    <tr>\n",
              "      <th>3</th>\n",
              "      <td>110034</td>\n",
              "      <td>Alvorada D'Oeste</td>\n",
              "      <td>264871.45</td>\n",
              "      <td>366903.28</td>\n",
              "      <td>287068.43</td>\n",
              "      <td>20037.86</td>\n",
              "      <td>938881.02</td>\n",
              "    </tr>\n",
              "    <tr>\n",
              "      <th>4</th>\n",
              "      <td>110002</td>\n",
              "      <td>Ariquemes</td>\n",
              "      <td>4425683.48</td>\n",
              "      <td>4928124.22</td>\n",
              "      <td>6406874.89</td>\n",
              "      <td>5198273.92</td>\n",
              "      <td>20958956.51</td>\n",
              "    </tr>\n",
              "  </tbody>\n",
              "</table>\n",
              "</div>"
            ],
            "text/plain": [
              "  cod_ibge                Municipio  ...        2020        Total\n",
              "0   110001    Alta Floresta D'Oeste  ...   650691.20   2546855.29\n",
              "1   110037  Alto Alegre dos Parecis  ...   185304.33    525496.11\n",
              "2   110040             Alto Paraíso  ...   251764.14    532838.06\n",
              "3   110034         Alvorada D'Oeste  ...    20037.86    938881.02\n",
              "4   110002                Ariquemes  ...  5198273.92  20958956.51\n",
              "\n",
              "[5 rows x 7 columns]"
            ]
          },
          "metadata": {},
          "execution_count": 53
        }
      ]
    },
    {
      "cell_type": "markdown",
      "metadata": {
        "id": "FSr2ztRBtwIc"
      },
      "source": [
        "b) Concatenação dos dois datasets; agrupamento do conjunto de dados por código IBGE e  município, apresentando como resultado a soma do valor total per capita da produção ambulatorial e hospitalar por município; e, por fim, agrupamento por estado."
      ]
    },
    {
      "cell_type": "code",
      "metadata": {
        "id": "2cVE9sguKizO",
        "colab": {
          "base_uri": "https://localhost:8080/",
          "height": 205
        },
        "outputId": "338d473b-4f7d-4e33-ccd6-2aab40dc5cd0"
      },
      "source": [
        "prod_sia_sih = pd.concat([sia,sih]).groupby(['cod_ibge', 'Municipio']).sum()\n",
        "prod_sia_sih.reset_index(inplace=True)\n",
        "prod_sia_sih['uf']=[x[0:2] for x in prod_sia_sih['cod_ibge']]\n",
        "prod_sia_sih = prod_sia_sih.groupby('uf').sum()\n",
        "prod_sia_sih.reset_index(inplace=True)\n",
        "prod_sia_sih.rename(columns={'uf':'COD_UF'}, inplace=True)\n",
        "prod_sia_sih = prod_sia_sih.merge(uf, on='COD_UF')\n",
        "prod_sia_sih = prod_sia_sih[['COD_UF','UF','NOME_ESTADO','POP_ESTADO','2017','2018', '2019', '2020', 'Total']]\n",
        "prod_sia_sih['Total_percapita'] = round(prod_sia_sih['2020']/prod_sia_sih['POP_ESTADO'], 2)\n",
        "prod_sia_sih.sort_values('Total_percapita', inplace=True)\n",
        "prod_sia_sih.iloc[:,[0,1,2,3,7,9]].head()"
      ],
      "execution_count": null,
      "outputs": [
        {
          "output_type": "execute_result",
          "data": {
            "text/html": [
              "<div>\n",
              "<style scoped>\n",
              "    .dataframe tbody tr th:only-of-type {\n",
              "        vertical-align: middle;\n",
              "    }\n",
              "\n",
              "    .dataframe tbody tr th {\n",
              "        vertical-align: top;\n",
              "    }\n",
              "\n",
              "    .dataframe thead th {\n",
              "        text-align: right;\n",
              "    }\n",
              "</style>\n",
              "<table border=\"1\" class=\"dataframe\">\n",
              "  <thead>\n",
              "    <tr style=\"text-align: right;\">\n",
              "      <th></th>\n",
              "      <th>COD_UF</th>\n",
              "      <th>UF</th>\n",
              "      <th>NOME_ESTADO</th>\n",
              "      <th>POP_ESTADO</th>\n",
              "      <th>2020</th>\n",
              "      <th>Total_percapita</th>\n",
              "    </tr>\n",
              "  </thead>\n",
              "  <tbody>\n",
              "    <tr>\n",
              "      <th>5</th>\n",
              "      <td>16</td>\n",
              "      <td>AP</td>\n",
              "      <td>Amapá</td>\n",
              "      <td>861773</td>\n",
              "      <td>5.786015e+07</td>\n",
              "      <td>67.14</td>\n",
              "    </tr>\n",
              "    <tr>\n",
              "      <th>1</th>\n",
              "      <td>12</td>\n",
              "      <td>AC</td>\n",
              "      <td>Acre</td>\n",
              "      <td>894470</td>\n",
              "      <td>7.890712e+07</td>\n",
              "      <td>88.22</td>\n",
              "    </tr>\n",
              "    <tr>\n",
              "      <th>14</th>\n",
              "      <td>28</td>\n",
              "      <td>SE</td>\n",
              "      <td>Sergipe</td>\n",
              "      <td>2318822</td>\n",
              "      <td>2.158531e+08</td>\n",
              "      <td>93.09</td>\n",
              "    </tr>\n",
              "    <tr>\n",
              "      <th>4</th>\n",
              "      <td>15</td>\n",
              "      <td>PA</td>\n",
              "      <td>Pará</td>\n",
              "      <td>8690745</td>\n",
              "      <td>8.567525e+08</td>\n",
              "      <td>98.58</td>\n",
              "    </tr>\n",
              "    <tr>\n",
              "      <th>2</th>\n",
              "      <td>13</td>\n",
              "      <td>AM</td>\n",
              "      <td>Amazonas</td>\n",
              "      <td>4207714</td>\n",
              "      <td>4.363115e+08</td>\n",
              "      <td>103.69</td>\n",
              "    </tr>\n",
              "  </tbody>\n",
              "</table>\n",
              "</div>"
            ],
            "text/plain": [
              "   COD_UF  UF NOME_ESTADO  POP_ESTADO          2020  Total_percapita\n",
              "5      16  AP       Amapá      861773  5.786015e+07            67.14\n",
              "1      12  AC        Acre      894470  7.890712e+07            88.22\n",
              "14     28  SE     Sergipe     2318822  2.158531e+08            93.09\n",
              "4      15  PA        Pará     8690745  8.567525e+08            98.58\n",
              "2      13  AM    Amazonas     4207714  4.363115e+08           103.69"
            ]
          },
          "metadata": {},
          "execution_count": 54
        }
      ]
    },
    {
      "cell_type": "markdown",
      "metadata": {
        "id": "py8pFfENHFTT"
      },
      "source": [
        "**1.4.3) Medidas descritivas referentes a média, mediana, desvio padrão e coeficiente de variação.**"
      ]
    },
    {
      "cell_type": "code",
      "metadata": {
        "colab": {
          "base_uri": "https://localhost:8080/"
        },
        "id": "R11VW7oS0spu",
        "outputId": "ed78d615-12e1-4dca-97e5-7186d5fd31bf"
      },
      "source": [
        "med_desc(prod_sia_sih)\n",
        "coef_var(prod_sia_sih)"
      ],
      "execution_count": null,
      "outputs": [
        {
          "output_type": "stream",
          "name": "stdout",
          "text": [
            "Média (Total percapita) = 126.68 \n",
            "Mediana (Total percapita) = 123.13 \n",
            "Desvio Padrão (Total percapita) = 27.88\n",
            "Coeficiente de Variação = 22.01% - média dispersão\n"
          ]
        }
      ]
    },
    {
      "cell_type": "code",
      "metadata": {
        "colab": {
          "base_uri": "https://localhost:8080/",
          "height": 585
        },
        "id": "NbSJ2BrMC_4-",
        "outputId": "54386a53-0111-406d-df20-1f0ab041a8a1"
      },
      "source": [
        "fig, ax = plt.subplots(figsize=(10,8))\n",
        "prod_sia_sih.plot(kind='bar',x='NOME_ESTADO',y='Total_percapita', ax=ax)\n",
        "ax.set_title(\"Total percapita por estado\",fontdict={'fontsize':15})\n",
        "ax.set_xlabel('Estados')\n",
        "ax.set_ylabel('Valor (R$)')\n",
        "ax.tick_params(labelsize=10)\n",
        "fig.tight_layout()\n",
        "plt.show()"
      ],
      "execution_count": null,
      "outputs": [
        {
          "output_type": "display_data",
          "data": {
            "image/png": "[encoded data removed]",
            "text/plain": [
              "<Figure size 720x576 with 1 Axes>"
            ]
          },
          "metadata": {
            "needs_background": "light"
          }
        }
      ]
    },
    {
      "cell_type": "code",
      "metadata": {
        "colab": {
          "base_uri": "https://localhost:8080/",
          "height": 545
        },
        "id": "ceUcqW9iOzi2",
        "outputId": "1cb736b1-c300-4a24-fa2a-0cf38821ffce"
      },
      "source": [
        "sns.catplot(y='Total_percapita', kind=\"box\",data=prod_sia_sih,height=7, palette='pastel')\n",
        "sns.stripplot(y='Total_percapita', data=prod_sia_sih, color=\"blue\",hue='UF')\n",
        "plt.title('Distribuição da produção ambulatorial e hospitalar nos estados', fontsize=10)\n",
        "plt.xlabel('Unidades Federativas')\n",
        "plt.ylabel('Total percapita')\n",
        "plt.show()"
      ],
      "execution_count": null,
      "outputs": [
        {
          "output_type": "display_data",
          "data": {
            "image/png": "[encoded data removed]",
            "text/plain": [
              "<Figure size 504x504 with 1 Axes>"
            ]
          },
          "metadata": {
            "needs_background": "light"
          }
        }
      ]
    },
    {
      "cell_type": "code",
      "metadata": {
        "colab": {
          "base_uri": "https://localhost:8080/",
          "height": 454
        },
        "id": "TqKon_NkJBLw",
        "outputId": "76a4894b-9277-4d21-fb51-a663b74d9d07"
      },
      "source": [
        "sns.relplot(x=\"POP_ESTADO\", y=\"2020\", hue='UF', data=prod_sia_sih, height=6, palette='Accent')\n",
        "plt.title('Relação população x produção ambulatorial e hospitalar no estado', fontsize=9)\n",
        "plt.xlabel('População Estado')\n",
        "plt.ylabel('Total produção (R$)')\n",
        "plt.show()"
      ],
      "execution_count": null,
      "outputs": [
        {
          "output_type": "display_data",
          "data": {
            "image/png": "[encoded data removed]",
            "text/plain": [
              "<Figure size 484.375x432 with 1 Axes>"
            ]
          },
          "metadata": {
            "needs_background": "light"
          }
        }
      ]
    },
    {
      "cell_type": "markdown",
      "metadata": {
        "id": "pUrTpr6FLlzF"
      },
      "source": [
        "## **Conclusão** ##\n",
        "\n",
        "As medidas de posição indicaram uma distribuição assimétrica positiva dos dados sobre o total per capita, com a média se sobrepondo à mediana. O coeficiente de variação alcançou 22,01%, apontando para uma média dispersão dos dados. Dos 3 datasets analisados, este foi o que apresentou a maior heterogeneidade dos dados.\n",
        "\n",
        "O gráfico de barras indicou que os estados da Região Sul (Paraná, Rio Grande do Sul e Santa Catarina) apresentaram os maiores valores per capita de produção de procedimentos hospitalares e ambulatoriais por habitante, ressaltando-se ainda que esses estados apresentaram o total per capita em um patamar acima dos demais entes.  No lado oposto, destacam-se negativamente o Amapá, Acre e Sergipe como os estados que apresentaram os menores valores per capita de produção, havendo uma variação maior no estado do Amapá em relação ao restante do conjunto de dados. \n",
        "\n",
        "O gráfico boxplot não indicou a ocorrência de valores discrepantes (outliers). De forma diversa dos casos anteriores, foi possível verificar que não houve uma concentração significativa de valores per capita por estados que se posicionaram abaixo ou acima da mediana.\n",
        "\n",
        "O gráfico de dispersão indicou um quantitativo maior de estados de descolando de uma linha central em relação aos outros conjuntos de dados, mas no geral havendo ainda indicação de relação entre a população dos estados e o total de recursos transferidos. \n"
      ]
    },
    {
      "cell_type": "markdown",
      "metadata": {
        "id": "_nNKovf9DSEC"
      },
      "source": [
        "**1.4.4) Variação produção e teto 2017 a 2020**\n",
        "\n",
        "De forma complementar, e ainda utilizando os datasets Sih, Sia e Teto MAC, ralizou-se uma comparação da variação entre os exercícios 2017 a 2020 de produção ambulatorial/hospitalar e dos recursos recebidos pelo Teto MAC. O tratamento dos dados envolveu o estabelecimento das colunas \"Variação_teto_17_20(%)\" e \"Variação_prod_17_20(%)\"."
      ]
    },
    {
      "cell_type": "code",
      "metadata": {
        "colab": {
          "base_uri": "https://localhost:8080/",
          "height": 205
        },
        "id": "24bui2R0CnF3",
        "outputId": "f935f3d5-9a6f-48e4-abc1-999944700880"
      },
      "source": [
        "teto_mac['Variação_teto_17_18(%)'] = round((teto_mac['2018'] - teto_mac['2017'])/teto_mac['2017']*100,2)\n",
        "teto_mac['Variação_teto_18_19(%)'] = round((teto_mac['2019'] - teto_mac['2018'])/teto_mac['2018']*100,2)\n",
        "teto_mac['Variação_teto_19_20(%)'] = round((teto_mac['2020'] - teto_mac['2019'])/teto_mac['2019']*100,2)\n",
        "teto_mac['Variação_teto_17_20(%)'] = round((teto_mac['2020'] - teto_mac['2017'])/teto_mac['2017']*100,2)\n",
        "teto_mac_var = teto_mac.drop(columns=['POP_ESTADO', '2017', '2018', '2019','2020', 'Total', 'Total_percapita'])\n",
        "teto_mac_var.head()"
      ],
      "execution_count": null,
      "outputs": [
        {
          "output_type": "execute_result",
          "data": {
            "text/html": [
              "<div>\n",
              "<style scoped>\n",
              "    .dataframe tbody tr th:only-of-type {\n",
              "        vertical-align: middle;\n",
              "    }\n",
              "\n",
              "    .dataframe tbody tr th {\n",
              "        vertical-align: top;\n",
              "    }\n",
              "\n",
              "    .dataframe thead th {\n",
              "        text-align: right;\n",
              "    }\n",
              "</style>\n",
              "<table border=\"1\" class=\"dataframe\">\n",
              "  <thead>\n",
              "    <tr style=\"text-align: right;\">\n",
              "      <th></th>\n",
              "      <th>COD_UF</th>\n",
              "      <th>UF</th>\n",
              "      <th>NOME_ESTADO</th>\n",
              "      <th>Variação_teto_17_18(%)</th>\n",
              "      <th>Variação_teto_18_19(%)</th>\n",
              "      <th>Variação_teto_19_20(%)</th>\n",
              "      <th>Variação_teto_17_20(%)</th>\n",
              "    </tr>\n",
              "  </thead>\n",
              "  <tbody>\n",
              "    <tr>\n",
              "      <th>2</th>\n",
              "      <td>13</td>\n",
              "      <td>AM</td>\n",
              "      <td>Amazonas</td>\n",
              "      <td>-0.08</td>\n",
              "      <td>1.70</td>\n",
              "      <td>-1.53</td>\n",
              "      <td>0.06</td>\n",
              "    </tr>\n",
              "    <tr>\n",
              "      <th>4</th>\n",
              "      <td>15</td>\n",
              "      <td>PA</td>\n",
              "      <td>Pará</td>\n",
              "      <td>2.70</td>\n",
              "      <td>7.28</td>\n",
              "      <td>2.43</td>\n",
              "      <td>12.86</td>\n",
              "    </tr>\n",
              "    <tr>\n",
              "      <th>5</th>\n",
              "      <td>16</td>\n",
              "      <td>AP</td>\n",
              "      <td>Amapá</td>\n",
              "      <td>1.14</td>\n",
              "      <td>4.64</td>\n",
              "      <td>3.37</td>\n",
              "      <td>9.39</td>\n",
              "    </tr>\n",
              "    <tr>\n",
              "      <th>7</th>\n",
              "      <td>21</td>\n",
              "      <td>MA</td>\n",
              "      <td>Maranhão</td>\n",
              "      <td>0.59</td>\n",
              "      <td>4.67</td>\n",
              "      <td>1.43</td>\n",
              "      <td>6.80</td>\n",
              "    </tr>\n",
              "    <tr>\n",
              "      <th>26</th>\n",
              "      <td>53</td>\n",
              "      <td>DF</td>\n",
              "      <td>Distrito Federal</td>\n",
              "      <td>-1.36</td>\n",
              "      <td>3.64</td>\n",
              "      <td>6.22</td>\n",
              "      <td>8.59</td>\n",
              "    </tr>\n",
              "  </tbody>\n",
              "</table>\n",
              "</div>"
            ],
            "text/plain": [
              "   COD_UF  UF  ... Variação_teto_19_20(%)  Variação_teto_17_20(%)\n",
              "2      13  AM  ...                  -1.53                    0.06\n",
              "4      15  PA  ...                   2.43                   12.86\n",
              "5      16  AP  ...                   3.37                    9.39\n",
              "7      21  MA  ...                   1.43                    6.80\n",
              "26     53  DF  ...                   6.22                    8.59\n",
              "\n",
              "[5 rows x 7 columns]"
            ]
          },
          "metadata": {},
          "execution_count": 59
        }
      ]
    },
    {
      "cell_type": "code",
      "metadata": {
        "colab": {
          "base_uri": "https://localhost:8080/",
          "height": 205
        },
        "id": "FI1ulHvJ0u5t",
        "outputId": "542d029a-6198-483f-f70c-b310fcca7241"
      },
      "source": [
        "prod_sia_sih['Variação_prod_17_18(%)'] = round((prod_sia_sih['2018'] - prod_sia_sih['2017'])/prod_sia_sih['2017']*100,2)\n",
        "prod_sia_sih['Variação_prod_18_19(%)'] = round((prod_sia_sih['2019'] - prod_sia_sih['2018'])/prod_sia_sih['2018']*100,2)\n",
        "prod_sia_sih['Variação_prod_19_20(%)'] = round((prod_sia_sih['2020'] - prod_sia_sih['2019'])/prod_sia_sih['2019']*100,2)\n",
        "prod_sia_sih['Variação_prod_17_20(%)'] = round((prod_sia_sih['2020'] - prod_sia_sih['2017'])/prod_sia_sih['2017']*100,2)\n",
        "prod_sia_sih_var = prod_sia_sih.drop(columns=['POP_ESTADO', '2017', '2018', '2019','2020', 'Total', 'Total_percapita'])\n",
        "prod_sia_sih_var.head()"
      ],
      "execution_count": null,
      "outputs": [
        {
          "output_type": "execute_result",
          "data": {
            "text/html": [
              "<div>\n",
              "<style scoped>\n",
              "    .dataframe tbody tr th:only-of-type {\n",
              "        vertical-align: middle;\n",
              "    }\n",
              "\n",
              "    .dataframe tbody tr th {\n",
              "        vertical-align: top;\n",
              "    }\n",
              "\n",
              "    .dataframe thead th {\n",
              "        text-align: right;\n",
              "    }\n",
              "</style>\n",
              "<table border=\"1\" class=\"dataframe\">\n",
              "  <thead>\n",
              "    <tr style=\"text-align: right;\">\n",
              "      <th></th>\n",
              "      <th>COD_UF</th>\n",
              "      <th>UF</th>\n",
              "      <th>NOME_ESTADO</th>\n",
              "      <th>Variação_prod_17_18(%)</th>\n",
              "      <th>Variação_prod_18_19(%)</th>\n",
              "      <th>Variação_prod_19_20(%)</th>\n",
              "      <th>Variação_prod_17_20(%)</th>\n",
              "    </tr>\n",
              "  </thead>\n",
              "  <tbody>\n",
              "    <tr>\n",
              "      <th>5</th>\n",
              "      <td>16</td>\n",
              "      <td>AP</td>\n",
              "      <td>Amapá</td>\n",
              "      <td>19.04</td>\n",
              "      <td>9.82</td>\n",
              "      <td>-12.70</td>\n",
              "      <td>14.13</td>\n",
              "    </tr>\n",
              "    <tr>\n",
              "      <th>1</th>\n",
              "      <td>12</td>\n",
              "      <td>AC</td>\n",
              "      <td>Acre</td>\n",
              "      <td>-3.36</td>\n",
              "      <td>7.56</td>\n",
              "      <td>-12.94</td>\n",
              "      <td>-9.51</td>\n",
              "    </tr>\n",
              "    <tr>\n",
              "      <th>14</th>\n",
              "      <td>28</td>\n",
              "      <td>SE</td>\n",
              "      <td>Sergipe</td>\n",
              "      <td>10.47</td>\n",
              "      <td>9.55</td>\n",
              "      <td>-5.74</td>\n",
              "      <td>14.08</td>\n",
              "    </tr>\n",
              "    <tr>\n",
              "      <th>4</th>\n",
              "      <td>15</td>\n",
              "      <td>PA</td>\n",
              "      <td>Pará</td>\n",
              "      <td>6.53</td>\n",
              "      <td>5.96</td>\n",
              "      <td>-1.57</td>\n",
              "      <td>11.11</td>\n",
              "    </tr>\n",
              "    <tr>\n",
              "      <th>2</th>\n",
              "      <td>13</td>\n",
              "      <td>AM</td>\n",
              "      <td>Amazonas</td>\n",
              "      <td>3.67</td>\n",
              "      <td>9.32</td>\n",
              "      <td>-7.43</td>\n",
              "      <td>4.91</td>\n",
              "    </tr>\n",
              "  </tbody>\n",
              "</table>\n",
              "</div>"
            ],
            "text/plain": [
              "   COD_UF  UF  ... Variação_prod_19_20(%)  Variação_prod_17_20(%)\n",
              "5      16  AP  ...                 -12.70                   14.13\n",
              "1      12  AC  ...                 -12.94                   -9.51\n",
              "14     28  SE  ...                  -5.74                   14.08\n",
              "4      15  PA  ...                  -1.57                   11.11\n",
              "2      13  AM  ...                  -7.43                    4.91\n",
              "\n",
              "[5 rows x 7 columns]"
            ]
          },
          "metadata": {},
          "execution_count": 60
        }
      ]
    },
    {
      "cell_type": "code",
      "metadata": {
        "colab": {
          "base_uri": "https://localhost:8080/",
          "height": 205
        },
        "id": "BHA5yWh31xmt",
        "outputId": "120cc040-73ca-4169-b113-6e5e3dbd0463"
      },
      "source": [
        "teto_mac_var_17_20 = teto_mac_var.iloc[:,[0,1,2,6]]\n",
        "prod_sia_sih_var_17_20 = prod_sia_sih_var.iloc[:,[0,1,2,6]]\n",
        "teto_prod = teto_mac_var_17_20.merge(prod_sia_sih_var_17_20.iloc[:,[0,3]], on='COD_UF')\n",
        "teto_prod.head()"
      ],
      "execution_count": null,
      "outputs": [
        {
          "output_type": "execute_result",
          "data": {
            "text/html": [
              "<div>\n",
              "<style scoped>\n",
              "    .dataframe tbody tr th:only-of-type {\n",
              "        vertical-align: middle;\n",
              "    }\n",
              "\n",
              "    .dataframe tbody tr th {\n",
              "        vertical-align: top;\n",
              "    }\n",
              "\n",
              "    .dataframe thead th {\n",
              "        text-align: right;\n",
              "    }\n",
              "</style>\n",
              "<table border=\"1\" class=\"dataframe\">\n",
              "  <thead>\n",
              "    <tr style=\"text-align: right;\">\n",
              "      <th></th>\n",
              "      <th>COD_UF</th>\n",
              "      <th>UF</th>\n",
              "      <th>NOME_ESTADO</th>\n",
              "      <th>Variação_teto_17_20(%)</th>\n",
              "      <th>Variação_prod_17_20(%)</th>\n",
              "    </tr>\n",
              "  </thead>\n",
              "  <tbody>\n",
              "    <tr>\n",
              "      <th>0</th>\n",
              "      <td>13</td>\n",
              "      <td>AM</td>\n",
              "      <td>Amazonas</td>\n",
              "      <td>0.06</td>\n",
              "      <td>4.91</td>\n",
              "    </tr>\n",
              "    <tr>\n",
              "      <th>1</th>\n",
              "      <td>15</td>\n",
              "      <td>PA</td>\n",
              "      <td>Pará</td>\n",
              "      <td>12.86</td>\n",
              "      <td>11.11</td>\n",
              "    </tr>\n",
              "    <tr>\n",
              "      <th>2</th>\n",
              "      <td>16</td>\n",
              "      <td>AP</td>\n",
              "      <td>Amapá</td>\n",
              "      <td>9.39</td>\n",
              "      <td>14.13</td>\n",
              "    </tr>\n",
              "    <tr>\n",
              "      <th>3</th>\n",
              "      <td>21</td>\n",
              "      <td>MA</td>\n",
              "      <td>Maranhão</td>\n",
              "      <td>6.80</td>\n",
              "      <td>25.75</td>\n",
              "    </tr>\n",
              "    <tr>\n",
              "      <th>4</th>\n",
              "      <td>53</td>\n",
              "      <td>DF</td>\n",
              "      <td>Distrito Federal</td>\n",
              "      <td>8.59</td>\n",
              "      <td>24.58</td>\n",
              "    </tr>\n",
              "  </tbody>\n",
              "</table>\n",
              "</div>"
            ],
            "text/plain": [
              "  COD_UF  UF       NOME_ESTADO  Variação_teto_17_20(%)  Variação_prod_17_20(%)\n",
              "0     13  AM          Amazonas                    0.06                    4.91\n",
              "1     15  PA              Pará                   12.86                   11.11\n",
              "2     16  AP             Amapá                    9.39                   14.13\n",
              "3     21  MA          Maranhão                    6.80                   25.75\n",
              "4     53  DF  Distrito Federal                    8.59                   24.58"
            ]
          },
          "metadata": {},
          "execution_count": 61
        }
      ]
    },
    {
      "cell_type": "code",
      "metadata": {
        "colab": {
          "base_uri": "https://localhost:8080/",
          "height": 499
        },
        "id": "TLpnMxsFro4M",
        "outputId": "ef6926ce-574a-478e-f3d9-606b2ce970bf"
      },
      "source": [
        "plt.figure(figsize=(20,8))\n",
        "X = np.arange(len(teto_prod['Variação_teto_17_20(%)']))\n",
        "plt.bar(X,'Variação_teto_17_20(%)', data=teto_prod, width = 0.45)\n",
        "plt.bar(X + 0.45,'Variação_prod_17_20(%)', data=teto_prod, width = 0.45)\n",
        "plt.legend(['Variação do Teto MAC 2017 a 2020', 'Variação da produção 2017 a 2020'])\n",
        "plt.xticks([i + 0.45 for i in range(27)], teto_prod['UF'])\n",
        "plt.title('Variação produção ambulatorial e hospitalar x Teto Mac (17-20)', fontsize=12)\n",
        "plt.ylabel('Variação em %')\n",
        "plt.show()"
      ],
      "execution_count": null,
      "outputs": [
        {
          "output_type": "display_data",
          "data": {
            "image/png": "[encoded data removed]",
            "text/plain": [
              "<Figure size 1440x576 with 1 Axes>"
            ]
          },
          "metadata": {
            "needs_background": "light"
          }
        }
      ]
    },
    {
      "cell_type": "code",
      "metadata": {
        "colab": {
          "base_uri": "https://localhost:8080/",
          "height": 471
        },
        "id": "B7QVoaqw3mAB",
        "outputId": "20b63488-924d-48d6-dd5d-6ea66f5fcf13"
      },
      "source": [
        "sns.relplot(x=\"Variação_prod_17_20(%)\", y=\"Variação_teto_17_20(%)\", hue='UF', data=teto_prod, height=6, palette='RdYlBu')\n",
        "plt.title('Produção ambulatorial e hospitalar x Teto Mac (17-20)', fontsize=12)\n",
        "plt.xlabel('Produção 2017-2020')\n",
        "plt.ylabel('Teto Mac 2017-2020')\n",
        "plt.show()"
      ],
      "execution_count": null,
      "outputs": [
        {
          "output_type": "display_data",
          "data": {
            "image/png": "[encoded data removed]",
            "text/plain": [
              "<Figure size 484.375x432 with 1 Axes>"
            ]
          },
          "metadata": {
            "needs_background": "light"
          }
        }
      ]
    },
    {
      "cell_type": "markdown",
      "metadata": {
        "id": "lpQjQethPHo4"
      },
      "source": [
        "## **Conclusão** ##\n",
        "\n",
        "Por fim, verifica-se que para alguns estados os recursos recebidos pelo Teto MAC não têm impulsionado na mesma proporção a produção de procedimentos hospitalares e ambulatoriais. Os estados de Roraima, Mato Grosso, Acre, Pernambuco, Piauí e Paraíba, por exemplo, apresentaram nesse espaço de tempo (2017 a 2020) uma variação positiva de recursos do Teto MAC, mas apresentando uma diminuição no nível de produção no mesmo período. Na ponta oposta, merecem destaque o Distrito Federal, Amapá, Maranhão, Rio Grande do Norte e Rio de Janeiro, que apresentaram uma variação na produção de serviços maior que a variação no quantitativo de recursos recebidos. Em relação ao Distrito Federal, cabe destacar ainda que a unidade federativa se posiciona entre os 5 últimos estado quanto ao total per capita em relação ao recebimento de recursos do Teto MAC, mas entre os 6 primeiros entes que mais produzem serviços de média e alta complexidade per capita.\n",
        "\n",
        "Já o gráfico de dispersão indica que não há um padrão específico nessa relação entre a variação dos recursos MAC recebidos e a produção de serviços ambulatoriais e hospitalares, havendo casos de baixa variação na produção, com alta no recebimento de recursos, e com alta variação na produção, com baixa variação nos recursos recebidos.\n"
      ]
    }
  ]
}